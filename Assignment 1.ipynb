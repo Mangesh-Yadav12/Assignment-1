{
 "cells": [
  {
   "cell_type": "markdown",
   "id": "70f18bec",
   "metadata": {},
   "source": [
    "#### 1. In the below elements which of them are values or an expression? eg:- values can be integer or string and expressions will be mathematical operators.\n",
    " `* `, `\"hello\"` , `-87.8`, `-` , `/` ,`+`,`6`?\n",
    " \n",
    "ANS : Operator : `+ ` ,`-`,` /`,` *`.\n",
    "      Experession : `[\"Hello\" is (string)]`, `[-87.8 is (float)]`, `[6 is (integer)`]"
   ]
  },
  {
   "cell_type": "markdown",
   "id": "6789532b",
   "metadata": {},
   "source": [
    "#### 2. What is the difference between string and variable?\n",
    "\n",
    "ANS : A variable is used to store information and string and integer are the type of variables.` String `are Alphanumeric in nature and store in `\" \"` quotes or` ''` quotes and while `integer` are` numeric`."
   ]
  },
  {
   "cell_type": "markdown",
   "id": "fb994795",
   "metadata": {},
   "source": [
    "#### 3. Describe three different data types.\n",
    "\n",
    "ANS : There are  three main type of data types are follows:\n",
    "\n",
    "1: `String` : In string we can use alphabet and number and we put in `\" \"` or `' '`  quotes.\n",
    "\n",
    "2: `Integer` : we use whole number as an integer.\n",
    "\n",
    "3: `Float` : Float are number with the decimal points."
   ]
  },
  {
   "cell_type": "code",
   "execution_count": 11,
   "id": "1ba447b3",
   "metadata": {},
   "outputs": [
    {
     "name": "stdout",
     "output_type": "stream",
     "text": [
      "mangesh 12 <class 'str'>\n",
      "1001 <class 'int'>\n",
      "2002.2 <class 'float'>\n"
     ]
    }
   ],
   "source": [
    "# Example for data types\n",
    "string = \"mangesh 12\"\n",
    "print(string,type(string))\n",
    "\n",
    "integer = 1001\n",
    "print(integer,type(integer))\n",
    "\n",
    "float_ = 2002.2 \n",
    "print(float_,type(float_))"
   ]
  },
  {
   "cell_type": "markdown",
   "id": "b2f60f93",
   "metadata": {},
   "source": [
    "#### 4. What is an expression made up of? What do all expressions do?\n",
    "\n",
    "ANS : An expression is a construct made up of variables, operators, and method invocations, which are constructed according to the syntax of the language, that evaluates to a single value."
   ]
  },
  {
   "cell_type": "code",
   "execution_count": 14,
   "id": "218c9260",
   "metadata": {},
   "outputs": [
    {
     "data": {
      "text/plain": [
       "20"
      ]
     },
     "execution_count": 14,
     "metadata": {},
     "output_type": "execute_result"
    }
   ],
   "source": [
    "#Example : of expression\n",
    "2*5+10"
   ]
  },
  {
   "cell_type": "markdown",
   "id": "ee214b91",
   "metadata": {},
   "source": [
    "#### 5. This assignment statements, like spam = 10. What is the difference between an expression and a statement?\n",
    "\n",
    "ANS : `Expression` :An expression is a combination of values, variables, and operators. A value all by itself is considered an expression, and so is a variable, so the following are all legal expressions: \n",
    "Ex : `2*5+10`\n",
    "\n",
    "Statement : A statement is a unit of code that has an effect, like creating a variable or displaying a value:\n",
    "Ex: `sir = \"sudhanshu sir is one of the best teacher i meet\"`\n"
   ]
  },
  {
   "cell_type": "code",
   "execution_count": 15,
   "id": "595b04f2",
   "metadata": {},
   "outputs": [],
   "source": [
    "spam = 10 #is a statement"
   ]
  },
  {
   "cell_type": "markdown",
   "id": "d1ba5243",
   "metadata": {},
   "source": [
    "#### 6.After running the following code, what does the variable bacon contain?\n",
    "`bacon = 22`\n",
    "`bacon + 1`\n",
    "\n",
    "ANS : In variable `bacon` we assign `22`, so if we have to add `1 `in `bacon` then first we need assing in variable: "
   ]
  },
  {
   "cell_type": "code",
   "execution_count": 18,
   "id": "745667bd",
   "metadata": {},
   "outputs": [
    {
     "name": "stdout",
     "output_type": "stream",
     "text": [
      "22\n"
     ]
    }
   ],
   "source": [
    "#EX 1\n",
    "bacon = 22\n",
    "bacon + 1\n",
    "print(bacon)\n",
    "# in this case we not assign `bacon + 1` in any variable "
   ]
  },
  {
   "cell_type": "code",
   "execution_count": 19,
   "id": "edfa0866",
   "metadata": {},
   "outputs": [
    {
     "name": "stdout",
     "output_type": "stream",
     "text": [
      "23\n"
     ]
    }
   ],
   "source": [
    "#EX 2\n",
    "bacon = 22\n",
    "bacon = bacon + 1\n",
    "print(bacon)"
   ]
  },
  {
   "cell_type": "markdown",
   "id": "3826fdfe",
   "metadata": {},
   "source": [
    "#### 7.What should the values of the following two terms be?\n",
    "`'spam'+'spamspam'`\n",
    "`'spam'*3`\n",
    "\n",
    "ANS : `'spam'+'spamspam'` is a string concatination\n",
    "      `'spam'*3` is a string multiplication"
   ]
  },
  {
   "cell_type": "markdown",
   "id": "8cb25f78",
   "metadata": {},
   "source": [
    "#### 8. Why is eggs a valid variable name while 100 is invalid?\n",
    "\n",
    "ANS : `100` is invalid because we can't use number as a variable in python"
   ]
  },
  {
   "cell_type": "code",
   "execution_count": 22,
   "id": "dbb1468b",
   "metadata": {},
   "outputs": [
    {
     "name": "stdout",
     "output_type": "stream",
     "text": [
      " hen came first or egg came first?\n"
     ]
    }
   ],
   "source": [
    "egg = \" hen came first or egg came first?\"\n",
    "print(egg)"
   ]
  },
  {
   "cell_type": "markdown",
   "id": "5f39aaa0",
   "metadata": {},
   "source": [
    "#### 9.What three functions can be used to get the integer,floating-point number,or string version of a value?\n",
    "Ans: The int(),float(),and str() functions will evaluate to the integer,floating-point number,string version of the value passed to them."
   ]
  },
  {
   "cell_type": "code",
   "execution_count": 27,
   "id": "91d22739",
   "metadata": {},
   "outputs": [
    {
     "name": "stdout",
     "output_type": "stream",
     "text": [
      "10\n",
      "10\n",
      "10.0\n"
     ]
    }
   ],
   "source": [
    "print(int(10.0))\n",
    "print(str(10))\n",
    "print(float(10))"
   ]
  },
  {
   "cell_type": "code",
   "execution_count": 23,
   "id": "c2baa760",
   "metadata": {},
   "outputs": [
    {
     "ename": "SyntaxError",
     "evalue": "cannot assign to literal (<ipython-input-23-b1215e1de9af>, line 1)",
     "output_type": "error",
     "traceback": [
      "\u001b[1;36m  File \u001b[1;32m\"<ipython-input-23-b1215e1de9af>\"\u001b[1;36m, line \u001b[1;32m1\u001b[0m\n\u001b[1;33m    100 = \"hen came first\"\u001b[0m\n\u001b[1;37m    ^\u001b[0m\n\u001b[1;31mSyntaxError\u001b[0m\u001b[1;31m:\u001b[0m cannot assign to literal\n"
     ]
    }
   ],
   "source": [
    "100 = \"hen came first\"\n",
    "print(100)"
   ]
  },
  {
   "cell_type": "markdown",
   "id": "6377417b",
   "metadata": {},
   "source": [
    "#### 10.Why does this expression cause an error? how can you fix it?\n",
    "\n",
    "'I have eaten ' + 99 + 'burritos.'\n",
    "\n",
    "ANS : Because of `99` it's getting error. we need to convert `99` into string."
   ]
  },
  {
   "cell_type": "code",
   "execution_count": 25,
   "id": "f8a7a95c",
   "metadata": {},
   "outputs": [
    {
     "data": {
      "text/plain": [
       "'I have eaten 99 burritos'"
      ]
     },
     "execution_count": 25,
     "metadata": {},
     "output_type": "execute_result"
    }
   ],
   "source": [
    "\"I have eaten \" + str(99) + \" burritos\""
   ]
  },
  {
   "cell_type": "code",
   "execution_count": null,
   "id": "ef398181",
   "metadata": {},
   "outputs": [],
   "source": []
  }
 ],
 "metadata": {
  "kernelspec": {
   "display_name": "Python 3",
   "language": "python",
   "name": "python3"
  },
  "language_info": {
   "codemirror_mode": {
    "name": "ipython",
    "version": 3
   },
   "file_extension": ".py",
   "mimetype": "text/x-python",
   "name": "python",
   "nbconvert_exporter": "python",
   "pygments_lexer": "ipython3",
   "version": "3.8.8"
  }
 },
 "nbformat": 4,
 "nbformat_minor": 5
}
